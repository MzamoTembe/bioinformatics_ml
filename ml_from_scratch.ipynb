{
 "cells": [
  {
   "cell_type": "markdown",
   "id": "d009345d",
   "metadata": {},
   "source": [
    "# Nueral Network from scratch\n",
    "So this is just a notebook I created when I was following the [Neural Networks from Scratch](https://www.youtube.com/watch?v=Wo5dMEP_BbI&list=PLQVvvaa0QuDcjD5BAw2DxE6OF2tius3V3) series by [sentdex](https://www.youtube.com/@sentdex) on youtube. I recommend that you watch their videos alongside this to get a better graps of the content. \n",
    "\n",
    "## Neural Network Explanation\n",
    "A neural network consists of layers of interconnected nodes (neurons):\n",
    "- **Input Layer**: Receives input features.\n",
    "- **Hidden Layer**: Processes inputs with weighted connections.\n",
    "- **Output Layer**: Produces the final output.\n",
    "<img src=\"media/ml_from_scratch/NNDiagram.jpg\" alt=\"NNDiagram\" style=\"width: 300px;\"/>\n",
    "\n",
    "\n",
    "## How it works\n",
    "This picture illustrates the computation inside a neuron:\n",
    "- **Inputs (x1, x2, ..., xn)**: The features provided to the neuron.\n",
    "- **Weights (w1, w2, ..., wn)**: The strength of the connection between inputs and the neuron.\n",
    "- **Bias (b)**: An additional parameter to adjust the output.\n",
    "- **Summation (Σ)**: Adds the weighted inputs and the bias.\n",
    "- **Activation Function (f)**: Applies a function to the sum to produce the neuron's output (y).\n",
    "<img src=\"media/ml_from_scratch/NNEquation.jpg\" alt=\"NNEquation\" style=\"width: 300px;\"/>\n",
    "\n",
    "If that was confusing gibberish to you then don't worry 😅. This notebook will run through the entrie process of building a basic nueral network from scratch to help you understand how NN work on a fundamental level."
   ]
  },
  {
   "cell_type": "markdown",
   "id": "dca1aa80",
   "metadata": {},
   "source": [
    "## The basics\n",
    "The diagram shows a basic building block of neural networks: the artificial neuron. It works like this:\n",
    "\n",
    "- **Input (x)**: The data you want the neuron to process.\n",
    "- **Weight (w)**: A number that determines how important the input is.\n",
    "- **Output (y)**: The result the neuron calculates.\n",
    "<img src=\"media/ml_from_scratch/Input_Output.png\" alt=\"Picture1\" style=\"width: 250px;\"/>\n",
    "\n",
    "##### Mathematically\n",
    "$$ \\Large y = w \\cdot x $$\n",
    "\n",
    "- The input (x) is multiplied by the weight (w).\n",
    "- This weighted input is then processed within the neuron (often with a bias and activation function, not shown here).\n",
    "- The final result is the output (y)."
   ]
  },
  {
   "cell_type": "code",
   "execution_count": 46,
   "id": "6fa07629",
   "metadata": {},
   "outputs": [
    {
     "name": "stdout",
     "output_type": "stream",
     "text": [
      "7\n"
     ]
    }
   ],
   "source": [
    "### Code for implementation above with random values\n",
    "inputs = [1]\n",
    "weights = [7]\n",
    "\n",
    "output = inputs[0]*weights[0]\n",
    "print(output)"
   ]
  },
  {
   "cell_type": "markdown",
   "id": "7383fbc4",
   "metadata": {},
   "source": [
    "## The Bias\n",
    "Bias in neural networks adjusts how neurons respond to inputs and ensures neurons can output values beyond zero, even when inputs are zero, enhancing their ability to learn diverse patterns.\n",
    "<img src=\"media/ml_from_scratch/Input_Output_Bias.png\" alt=\"Picture4\" style=\"width: 250px;\"/>\n",
    "\n",
    "#### Comparison to Line Equation\n",
    "Like adjusting b in y = mx + b:\n",
    "\n",
    "<img src=\"media/ml_from_scratch/linear_graph.png\" alt=\"Picture5\" style=\"width: 250px;\"/>\n",
    "\n",
    "- **Positive Bias**: Increases neuron activation likelihood.\n",
    "- **Negative Bias**: Decreases neuron activation likelihood.\n",
    "- **Zero Bias**: Neurons start with a neutral output based solely on inputs."
   ]
  },
  {
   "cell_type": "code",
   "execution_count": 47,
   "id": "4d5d0ce7",
   "metadata": {},
   "outputs": [
    {
     "name": "stdout",
     "output_type": "stream",
     "text": [
      "7\n"
     ]
    }
   ],
   "source": [
    "### Code for implementation above with random values\n",
    "inputs = [1]\n",
    "weights = [7]\n",
    "bias = [0]\n",
    "\n",
    "output = inputs[0]*weights[0] + bias[0]\n",
    "print(output)"
   ]
  },
  {
   "cell_type": "markdown",
   "id": "f24156f2",
   "metadata": {},
   "source": [
    "## Adding nuerons/nodes in layers\n",
    "Each input (e.g., x1, x2, x3) represents a specific aspect of the data.\n",
    "\n",
    "Every input connects to each output (e.g., y1, y2) via a line that embodies a weight (e.g., w) and a bias (e.g., b). This weight quantifies the input's influence on the specific output.\n",
    "\n",
    "<img src=\"media/ml_from_scratch/Layers.png\" alt=\"Picture3\" style=\"width: 250px;\"/>\n",
    "\n",
    "##### Mathematically\n",
    "Each output (e.g., y1) is determined by:\n",
    "- Multiplying each input by its corresponding weight: \n",
    "  $$ w_1 \\cdot x_1, w_2 \\cdot x_2, w_3 \\cdot x_3 $$  \n",
    "- Summing all these weighted inputs together: $$ w_1 \\cdot x_1 + w_2 \\cdot x_2 + w_3 \\cdot x_3 $$\n",
    "- Adding a bias term \\( b \\) to the sum: $$ y_1 = w_1 \\cdot x_1 + w_2 \\cdot x_2 + w_3 \\cdot x_3 + b $$"
   ]
  },
  {
   "cell_type": "code",
   "execution_count": 172,
   "id": "4751956b",
   "metadata": {},
   "outputs": [
    {
     "name": "stdout",
     "output_type": "stream",
     "text": [
      "[3.2299999999999995, 6.359999999999999]\n"
     ]
    }
   ],
   "source": [
    "# Input Layer (3 nodes)\n",
    "inputs = [1.0, 2.0, 3.0]\n",
    "\n",
    "# Weight Matrix (2x3 - each row corresponds to the weights for one output)\n",
    "weights = [[0.5, 0.3, 0.7], [0.2, 0.8, 1.5]]  \n",
    "\n",
    "# Biases (for each output)\n",
    "biases = [0.03, 0.06]\n",
    "\n",
    "# Calculations - Multiply input by corresponding weight, sum, and add bias\n",
    "output = [\n",
    "    inputs[0]*weights[0][0] + inputs[1]*weights[0][1] + inputs[2]*weights[0][2] + biases[0],\n",
    "    inputs[0]*weights[1][0] + inputs[1]*weights[1][1] + inputs[2]*weights[1][2] + biases[1]\n",
    "] \n",
    "\n",
    "print(output)"
   ]
  },
  {
   "cell_type": "markdown",
   "id": "e855cd88",
   "metadata": {},
   "source": [
    "## The Dot Product\n",
    "The dot product operation in neural networks simplifies the calculation of outputs by performing two key tasks:\n",
    "- **Element-wise Multiplication**: Computes the product of corresponding elements.\n",
    "- **Summation**: Adds these products to produce a scalar value.\n",
    "\n",
    "#### Mathematically\n",
    "- **Inputs:** represent data features $$ \\mathbf{x} = [x_1, x_2, x_3] $$ \n",
    "- **Weights:** determine how much each input influences the output. $$ \\mathbf{w} = [w_1, w_2, w_3] $$ \n",
    "- **Bias:** adds constant b to the output calculation \n",
    "- **Output:** for specific output y_1\n",
    "$$\n",
    "\\mathbf{y_1} = \\mathbf{w} \\cdot \\mathbf{x} + b = \\begin{bmatrix} w_1 & w_2 & w_3 \\end{bmatrix} \\begin{bmatrix} x_1 \\\\ x_2 \\\\ x_3 \\end{bmatrix} + b = w_1 \\cdot x_1 + w_2 \\cdot x_2 + w_3 \\cdot x_3 + b\n",
    "$$\n"
   ]
  },
  {
   "cell_type": "code",
   "execution_count": 170,
   "id": "347bae3f",
   "metadata": {},
   "outputs": [
    {
     "name": "stdout",
     "output_type": "stream",
     "text": [
      "[3.23 6.36]\n"
     ]
    }
   ],
   "source": [
    "import numpy as np\n",
    "\n",
    "inputs = [1.0, 2.0, 3.0]\n",
    "weights = [[0.5, 0.3, 0.7], [0.2, 0.8, 1.5]]  \n",
    "biases = [0.03, 0.06]\n",
    "\n",
    "output = np.dot(weights, inputs) + biases\n",
    "print(output)"
   ]
  },
  {
   "cell_type": "markdown",
   "id": "951de2eb",
   "metadata": {},
   "source": [
    "## Batches\n",
    "\n",
    "In batch processing, benefits include improved computation efficiency, enhanced generalization, and stability promotion. Transitioning from a vector to a matrix:\n",
    "\n",
    "$$\n",
    "\\text{Vector Input} = [x_1, x_2, x_3]\n",
    "$$\n",
    "\n",
    "$$\n",
    "\\text{Batch Inputs} = \\begin{bmatrix}\n",
    "x_{11} & x_{12} & x_{13} \\\\\n",
    "x_{21} & x_{22} & x_{23}\n",
    "\\end{bmatrix}\n",
    "$$\n",
    "\n",
    "### Matrix Transpose\n",
    "\n",
    "When transitioning from vector output to matrix input, adjust by transposing the weights matrix W:\n",
    "\n",
    "$$\n",
    "\\mathbf{W} = \\begin{bmatrix} w_{11} & w_{12} & w_{13} \\\\ w_{21} & w_{22} & w_{23} \\end{bmatrix} \\quad \\Rightarrow \\quad \\mathbf{W}^T = \\begin{bmatrix} w_{11} & w_{21} \\\\ w_{12} & w_{22} \\\\ w_{13} & w_{23} \\end{bmatrix}\n",
    "$$\n",
    "\n",
    "This ensures correct multiplication with the batch input matrix X:\n",
    "\n",
    "$$\n",
    "\\mathbf{Y} = \\mathbf{X} \\cdot \\mathbf{W}^T + \\mathbf{b} = \\begin{bmatrix}\n",
    "x_{11} & x_{12} & x_{13} \\\\\n",
    "x_{21} & x_{22} & x_{23}\n",
    "\\end{bmatrix} \\cdot \\begin{bmatrix} w_{11} & w_{21} \\\\ w_{12} & w_{22} \\\\ w_{13} & w_{23} \\end{bmatrix} + \\begin{bmatrix} b_1 \\\\ b_2 \\end{bmatrix}\n",
    "$$\n",
    "\n",
    "#### Mathematically\n",
    "\n",
    "$$\n",
    "y_{ij} = x_{i1} \\cdot w_{1j} + x_{i2} \\cdot w_{2j} + x_{i3} \\cdot w_{3j} \\quad \\text{for } i = 1, 2 \\text{ and } j = 1, 2\n",
    "$$\n",
    "\n",
    "$$\n",
    "\\mathbf{Y} = \\begin{bmatrix}\n",
    "x_{11} \\cdot w_{11} + x_{12} \\cdot w_{21} + b_1 & x_{11} \\cdot w_{12} + x_{12} \\cdot w_{22} + b_2 \\\\\n",
    "x_{21} \\cdot w_{11} + x_{22} \\cdot w_{21} + b_1 & x_{21} \\cdot w_{12} + x_{22} \\cdot w_{22} + b_2\n",
    "\\end{bmatrix}\n",
    "$$\n",
    "\n",
    "$$\n",
    "\\mathbf{Y} = \\begin{bmatrix}\n",
    "\\sum_{k=1}^{3} x_{1k} \\cdot w_{k1} + b_1 & \\sum_{k=1}^{3} x_{1k} \\cdot w_{k2} + b_2 \\\\\n",
    "\\sum_{k=1}^{3} x_{2k} \\cdot w_{k1} + b_1 & \\sum_{k=1}^{3} x_{2k} \\cdot w_{k2} + b_2\n",
    "\\end{bmatrix}\n",
    "$$"
   ]
  },
  {
   "cell_type": "code",
   "execution_count": 169,
   "id": "946669ac",
   "metadata": {},
   "outputs": [
    {
     "name": "stdout",
     "output_type": "stream",
     "text": [
      "[[ 3.2  6.3]\n",
      " [ 7.7 13.8]]\n"
     ]
    }
   ],
   "source": [
    "inputs = [[1.0, 2.0, 3.0], [4.0, 5.0, 6.0]]\n",
    "weights = [[0.5, 0.3, 0.7], [0.2, 0.8, 1.5]] \n",
    "transposed_weights = np.array(weights).T\n",
    "biases = [0.03, 0.06]\n",
    "\n",
    "output = np.dot(inputs, transposed_weights) + biases\n",
    "print(output)"
   ]
  },
  {
   "cell_type": "markdown",
   "id": "452ff989",
   "metadata": {},
   "source": [
    "## Layers\n",
    "\n",
    "- **Input Layer:** Receives input data.\n",
    "- **Hidden Layer:** Processes input through weighted sums and activation functions.\n",
    "- **Output Layer:** Produces the final output.\n",
    "\n",
    "<img src=\"media/ml_from_scratch/Input_Hidden_Output_Layer.png\" alt=\"Picture8\" style=\"width: 250px;\"/>\n",
    "\n",
    "#### Mathematically\n",
    "\n",
    "$$\n",
    "y_{ij} = \\sum_{k=1}^{n} x_{ik} \\cdot w_{kj} + b_j \\quad \\text{for } i = 1, 2, \\ldots, p \\text{ and } j = 1, 2, \\ldots, m\n",
    "$$\n",
    "\n",
    "**Where:**\n",
    "- $ y_{ij} $ represents the activation of the $ i $-th neuron in the output layer for the $ j $-th sample.\n",
    "- $ x_{ik} $ denotes the activation of the $ k $-th neuron in the input layer for the $ i $-th sample.\n",
    "- $ w_{kj} $ signifies the weight connecting the $ k $-th neuron in the input layer to the $ j $-th neuron in the output layer.\n",
    "- $ b_j $ is the bias term associated with the $ j $-th neuron in the output layer.\n"
   ]
  },
  {
   "cell_type": "code",
   "execution_count": 173,
   "id": "3d0e60c2",
   "metadata": {},
   "outputs": [
    {
     "name": "stdout",
     "output_type": "stream",
     "text": [
      "Layer 1 Output:\n",
      "[[ 3.23  6.36]\n",
      " [ 7.73 13.86]]\n",
      "\n",
      "Layer 2 Output:\n",
      "[[ 3.553  5.794]\n",
      " [ 8.053 12.694]]\n"
     ]
    }
   ],
   "source": [
    "inputs = [[1.0, 2.0, 3.0], [4.0, 5.0, 6.0]]\n",
    "\n",
    "weights_1 = [[0.5, 0.3, 0.7], [0.2, 0.8, 1.5]]\n",
    "transposed_weights_1 = np.array(weights_1).T\n",
    "biases_1 = [0.03, 0.06]\n",
    "\n",
    "weights_2 = [[0.5, 0.3], [0.2, 0.8]]\n",
    "transposed_weights_2 = np.array(weights_2).T\n",
    "biases_2 = [0.03, 0.06]\n",
    "\n",
    "# Layer 1 computation\n",
    "layer_1_output = np.dot(inputs, transposed_weights_1) + biases_1\n",
    "print(\"Layer 1 Output:\")\n",
    "print(layer_1_output)\n",
    "\n",
    "# Layer 2 computation\n",
    "layer_2_output = np.dot(layer_1_output, transposed_weights_2) + biases_2\n",
    "print(\"\\nLayer 2 Output:\")\n",
    "print(layer_2_output)"
   ]
  },
  {
   "cell_type": "markdown",
   "id": "1a9f259d",
   "metadata": {},
   "source": [
    "## Coding a Layer\n",
    "\n",
    "- **Normalization:** Adjust input data to a small range, e.g., [-1.5, 1.5], for stable training where $ \\mu $ is the mean and $ \\sigma $ is the standard deviation.\n",
    "\n",
    "  $$ X_{\\text{normalized}} = \\frac{X - \\mu}{\\sigma} $$\n",
    "\n",
    "\n",
    "- **Gaussian Distribution:** Initialize weights $ W $ with a Gaussian distribution around zero, \n",
    "\n",
    "$$ N(0, \\sigma^2) $$\n",
    "\n",
    "- **Biases:** Initialize biases (randomly) slightly positive to prevent neuron inactivity.\n",
    "\n",
    "  $$ b \\sim N(0, 0.01) $$\n"
   ]
  },
  {
   "cell_type": "code",
   "execution_count": 175,
   "id": "331e64ae",
   "metadata": {},
   "outputs": [
    {
     "name": "stdout",
     "output_type": "stream",
     "text": [
      "Layer 1 Output:\n",
      "[[ 0.10758131  1.03983522  0.24462411  0.31821498  0.18851053]\n",
      " [-0.08349796  0.70846411  0.00293357  0.44701525  0.36360538]\n",
      " [-0.50763245  0.55688422  0.07987797 -0.34889573  0.04553042]]\n",
      "Layer 2 Output:\n",
      "[[ 0.148296   -0.08397602]\n",
      " [ 0.14100315 -0.01340469]\n",
      " [ 0.20124979 -0.07290616]]\n"
     ]
    }
   ],
   "source": [
    "np.random.seed(0)\n",
    "    \n",
    "X = [[1, 2, 3, 2.5],\n",
    "     [2.0, 5.0, -1.0, 2.0],\n",
    "     [-1.5, 2.7, 3.3, -0.8]]\n",
    "\n",
    "class Layer:\n",
    "    def __init__(self, n_inputs, n_nuerons):\n",
    "        self.weights = 0.10 * np.random.randn(n_inputs, n_nuerons)\n",
    "        self.biases = np.zeros((1, n_nuerons))\n",
    "    def forward(self, inputs):\n",
    "        self.output = np.dot(inputs, self.weights) + self.biases\n",
    "        \n",
    "layer_1 = Layer(4,5)\n",
    "layer_2 = Layer(5,2)\n",
    "\n",
    "layer_1.forward(X)\n",
    "print(\"Layer 1 Output:\")\n",
    "print(layer_1.output)\n",
    "layer_2.forward(layer_1.output)\n",
    "print(\"Layer 2 Output:\")\n",
    "print(layer_2.output)"
   ]
  },
  {
   "cell_type": "markdown",
   "id": "44ee1899",
   "metadata": {},
   "source": [
    "## Activation Functions\n",
    "\n",
    "#### Linear Function\n",
    "$$ f(x) = ax + b $$\n",
    "- Fits linear relationships.\n",
    "- Limited for complex patterns."
   ]
  },
  {
   "cell_type": "code",
   "execution_count": 222,
   "id": "968dfd44",
   "metadata": {},
   "outputs": [
    {
     "name": "stdout",
     "output_type": "stream",
     "text": [
      "\n",
      "Activation output for Layer 1 (Linear Activation):\n",
      "[[ 0.20350729  0.26283999 -0.31146583 -0.47999618 -0.66615728]\n",
      " [-0.14116285  0.65389966  0.26692168 -0.22604529 -0.48565405]\n",
      " [-0.05969232  0.12721748 -0.92394003 -0.34160395 -0.25986489]]\n"
     ]
    }
   ],
   "source": [
    "class Activation_Linear:\n",
    "    def forward(self, inputs):\n",
    "        self.output = inputs\n",
    "\n",
    "# Initialize Layer and Activation_Linear instances\n",
    "layer_1 = Layer(4, 5)\n",
    "activation_linear = Activation_Linear()\n",
    "\n",
    "# Apply Linear activation to Layer 1 output\n",
    "layer_1.forward(X)\n",
    "activation_linear.forward(layer_1.output)\n",
    "print(\"\\nActivation output for Layer 1 (Linear Activation):\")\n",
    "print(activation_linear.output)"
   ]
  },
  {
   "cell_type": "markdown",
   "id": "bcadafdb",
   "metadata": {},
   "source": [
    "#### Step Function\n",
    "$$\n",
    "f(x) = \n",
    "\\begin{cases} \n",
    "  0 & \\text{if } x < 0 \\\\\n",
    "  1 & \\text{if } x \\geq 0 \n",
    "\\end{cases}\n",
    "$$\n",
    "- Categorizes data into two classes based on a threshold.\n",
    "- Simple but lacks smoothness."
   ]
  },
  {
   "cell_type": "code",
   "execution_count": 199,
   "id": "b99ecd25",
   "metadata": {},
   "outputs": [
    {
     "name": "stdout",
     "output_type": "stream",
     "text": [
      "\n",
      "Activation output for Layer 1 (Step  Activation):\n",
      "[[1 0 0 0 0]\n",
      " [1 0 0 0 1]\n",
      " [1 0 0 1 0]]\n"
     ]
    }
   ],
   "source": [
    "class Activation_Step:\n",
    "    def forward(self, inputs):\n",
    "        self.output = np.where(inputs >= 0, 1, 0)\n",
    "\n",
    "# Initialize Layer and Activation_Step instances\n",
    "layer_1 = Layer(4, 5)\n",
    "activation_step = Activation_Step()\n",
    "\n",
    "# Apply Step activation to Layer 1 output\n",
    "layer_1.forward(X)\n",
    "activation_step .forward(layer_1.output)\n",
    "print(\"\\nActivation output for Layer 1 (Step  Activation):\")\n",
    "print(activation_step.output)"
   ]
  },
  {
   "cell_type": "markdown",
   "id": "4e78b544",
   "metadata": {},
   "source": [
    "#### Sigmoid Function\n",
    "$$ f(x) = \\frac{1}{1 + e^{-x}} $$\n",
    "- Smoothly transitions between 0 and 1.\n",
    "- Suitable for probabilities and moderate non-linear patterns."
   ]
  },
  {
   "cell_type": "code",
   "execution_count": null,
   "id": "6d855980",
   "metadata": {},
   "outputs": [],
   "source": [
    "class Activation_Sigmoid:\n",
    "    def forward(self, inputs):\n",
    "        self.output = 1 / (1 + np.exp(-inputs))\n",
    "\n",
    "# Initialize Layer and Activation_Sigmoid instances\n",
    "layer_1 = Layer(4, 5)\n",
    "activation_sigmoid = Activation_Sigmoid()\n",
    "\n",
    "# Apply Sigmoid activation to Layer 1 output\n",
    "layer_1.forward(X)\n",
    "activation_sigmoid.forward(layer_1.output)\n",
    "print(\"\\nActivation output for Layer 1 (Sigmoid Activation):\")\n",
    "print(activation_sigmoid.output)"
   ]
  },
  {
   "cell_type": "markdown",
   "id": "19ce3645",
   "metadata": {},
   "source": [
    "#### ReLU Function (Rectified Linear Unit)\n",
    "$$\n",
    "f(x) = \n",
    "\\begin{cases} \n",
    "  0 & \\text{if } x < 0 \\\\\n",
    "  x & \\text{if } x \\geq 0 \n",
    "\\end{cases}\n",
    "$$\n",
    "- Learns complex patterns efficiently.\n",
    "- Addresses gradient issues in deep networks."
   ]
  },
  {
   "cell_type": "code",
   "execution_count": 213,
   "id": "3faf2d16",
   "metadata": {},
   "outputs": [
    {
     "name": "stdout",
     "output_type": "stream",
     "text": [
      "\n",
      "Activation output for Layer 1 (after ReLU):\n",
      "[[0.         0.04747101 0.         0.         0.        ]\n",
      " [0.33531155 0.         0.         0.         0.04582826]\n",
      " [0.         0.         0.         0.         0.        ]]\n"
     ]
    }
   ],
   "source": [
    "class Activation_ReLU:\n",
    "    def forward(self, inputs):\n",
    "        self.output = np.maximum(0, inputs)\n",
    "\n",
    "# Initialize Layer and Activation_ReLU instances\n",
    "layer_1 = Layer(4, 5)\n",
    "activation_ReLU = Activation_ReLU()\n",
    "\n",
    "# Apply ReLU activation to Layer 1 output\n",
    "layer_1.forward(X)\n",
    "activation_ReLU.forward(layer_1.output)\n",
    "print(\"\\nActivation output for Layer 1 (after ReLU):\")\n",
    "print(activation_ReLU.output)"
   ]
  },
  {
   "cell_type": "markdown",
   "id": "848d873b",
   "metadata": {},
   "source": [
    "#### Softmax Function\n",
    "\n",
    "Converts raw scores (logits) into probabilities for multi-class classification tasks. For an input vector $\\mathbf{x} = (x_1, x_2, \\ldots, x_L)$, softmax computes probabilities $\\mathbf{f(x)} = (f(x)_1, f(x)_2, \\ldots, f(x)_L)$:\n",
    "  \n",
    "$$ f(x)_i = \\frac{e^{x_i}}{\\sum_{j=1}^{L} e^{x_j}} $$\n",
    "\n",
    "##### Exponentiation\n",
    "\n",
    "$ e^{x_i} $ transforms each raw score $ x_i $ into a positive value:\n",
    "\n",
    "$$ e^{x_i} = \\exp(x_i) $$\n",
    "\n",
    "##### Normalization\n",
    "\n",
    "$\\sum_{j=1}^{L} e^{x_j}$ in the denominator ensures the sum of probabilities equals 1, making $\\mathbf{f(x)}$ a valid probability distribution:\n",
    "\n",
    "$$ \\sum_{j=1}^{L} e^{x_j} = e^{x_1} + e^{x_2} + \\ldots + e^{x_L} $$\n"
   ]
  },
  {
   "cell_type": "code",
   "execution_count": 228,
   "id": "f19dae09",
   "metadata": {},
   "outputs": [
    {
     "name": "stdout",
     "output_type": "stream",
     "text": [
      "Exponentiated values: \n",
      "[121.51041751873485, 3.3534846525490236, 10.859062664920515]\n",
      "\n",
      "Normalized values (probabilities): \n",
      "[0.8952826639572619, 0.02470830678209937, 0.0800090292606387]\n",
      "\n",
      "Sum of probabilities: \n",
      "0.9999999999999999\n"
     ]
    }
   ],
   "source": [
    "import math\n",
    "\n",
    "# Input logits\n",
    "layer_output_1 = [4.8, 1.21, 2.385]\n",
    "\n",
    "# Exponentiation step: calculate e^x for each logit\n",
    "exp_values = [math.exp(output) for output in layer_output_1]\n",
    "print(f\"Exponentiated values: \\n{exp_values}\")\n",
    "\n",
    "# Normalization step: calculate the sum of the exponentiated values\n",
    "norm_base = sum(exp_values)\n",
    "\n",
    "# Normalize the exponentiated values to get the probabilities\n",
    "norm_values = [value / norm_base for value in exp_values]\n",
    "print(f\"\\nNormalized values (probabilities): \\n{norm_values}\")\n",
    "\n",
    "# Verify that the sum of probabilities is 1\n",
    "print(f\"\\nSum of probabilities: \\n{sum(norm_values)}\")"
   ]
  },
  {
   "cell_type": "markdown",
   "id": "934411a5",
   "metadata": {},
   "source": [
    "### Overflow Prevention in Softmax\n",
    "\n",
    "Softmax exponentiates potentially large numbers, which can lead to numerical instability and overflow errors. To prevent this, adjust each logit by subtracting $ \\max(\\mathbf{x}) $:\n",
    "\n",
    "$$ f(x)_i = \\frac{e^{x_i - \\max(\\mathbf{x})}}{\\sum_{j=1}^{C} e^{x_j - \\max(\\mathbf{x})}} $$\n",
    "\n",
    "- **Adjustment**: $ \\max(\\mathbf{x}) $ is the maximum value in $ \\mathbf{x} $.\n",
    "- Ensures exponentiated values remain manageable, preserving relative probabilities."
   ]
  },
  {
   "cell_type": "code",
   "execution_count": 230,
   "id": "91bd9b2a",
   "metadata": {
    "scrolled": false
   },
   "outputs": [
    {
     "name": "stdout",
     "output_type": "stream",
     "text": [
      "Activation output for Layer 1 (Step  ReLu): \n",
      "[[0.22592826 0.         0.28745273]\n",
      " [0.62217377 0.         0.54950295]\n",
      " [0.68871262 0.04785553 0.14641829]]\n",
      "\n",
      "Activation output for Layer 1 (Step  Softmax): \n",
      "[[0.50307579 0.49692421]\n",
      " [0.50920156 0.49079844]\n",
      " [0.51376102 0.48623898]]\n"
     ]
    }
   ],
   "source": [
    "class Activation_Softmax:\n",
    "    def forward(self, inputs):\n",
    "        # Note that the overflow prevention has been added\n",
    "        exp_values = np.exp(inputs - np.max(inputs, axis=1, keepdims=True))\n",
    "        probabilities = exp_values / np.sum(exp_values, axis=1, keepdims=True)\n",
    "        self.output = probabilities\n",
    "\n",
    "input_layer = Layer(4, 3)\n",
    "activation_ReLU = Activation_ReLU()\n",
    "output_layer = Layer(3,2)\n",
    "activation_softmax = Activation_Softmax()\n",
    "\n",
    "# Forward pass through the first layer and ReLU activation\n",
    "input_layer.forward(X)\n",
    "activation_ReLU.forward(input_layer.output)\n",
    "print(f\"Activation output for Layer 1 (Step  ReLu): \\n{activation_ReLU.output}\")\n",
    "\n",
    "# Forward pass through the second layer and softmax activation\n",
    "output_layer.forward(activation_ReLU.output)\n",
    "activation_softmax.forward(output_layer.output)\n",
    "print(f\"\\nActivation output for Layer 1 (Step  Softmax): \\n{activation_softmax.output}\")"
   ]
  },
  {
   "cell_type": "markdown",
   "id": "78e74b21",
   "metadata": {},
   "source": [
    "## Datasets\n",
    "Now lets get into the juicy stuff like the loss function and backpropagation. But before that, let's load a dataset that we will be using. This dataset is from the Stanford [CS231 course](https://cs231n.github.io/neural-networks-case-study)."
   ]
  },
  {
   "cell_type": "code",
   "execution_count": 238,
   "id": "5ebd7fd0",
   "metadata": {},
   "outputs": [
    {
     "data": {
      "image/png": "[encoded data removed]",
      "text/plain": [
       "<Figure size 640x480 with 1 Axes>"
      ]
     },
     "metadata": {},
     "output_type": "display_data"
    }
   ],
   "source": [
    "from matplotlib import pyplot as plt\n",
    "\n",
    "def spiral_data(points, classes):\n",
    "    X = np.zeros((points*classes, 2))\n",
    "    y = np.zeros(points*classes, dtype='uint8')\n",
    "    for class_number in range(classes):\n",
    "        ix = range(points*class_number, points*(class_number+1))\n",
    "        r = np.linspace(0.0, 1, points)  # radius\n",
    "        t = np.linspace(class_number*4, (class_number+1)*4, points) + np.random.randn(points)*0.2\n",
    "        X[ix] = np.c_[r*np.sin(t*2.5), r*np.cos(t*2.5)]\n",
    "        y[ix] = class_number\n",
    "    return X, y\n",
    "\n",
    "X, y = spiral_data(100, 3)\n",
    "plt.scatter(X[:,0], X[:,1], c=y, cmap=\"brg\")\n",
    "plt.show()"
   ]
  }
 ],
 "metadata": {
  "kernelspec": {
   "display_name": "Python 3 (ipykernel)",
   "language": "python",
   "name": "python3"
  },
  "language_info": {
   "codemirror_mode": {
    "name": "ipython",
    "version": 3
   },
   "file_extension": ".py",
   "mimetype": "text/x-python",
   "name": "python",
   "nbconvert_exporter": "python",
   "pygments_lexer": "ipython3",
   "version": "3.9.13"
  }
 },
 "nbformat": 4,
 "nbformat_minor": 5
}
